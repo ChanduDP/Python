{
  "nbformat": 4,
  "nbformat_minor": 0,
  "metadata": {
    "colab": {
      "name": "Glaxo&BEML_Prob_Gain or Loss",
      "provenance": [],
      "authorship_tag": "ABX9TyPJh5i8FTfgOnKkwl0CLiLi",
      "include_colab_link": true
    },
    "kernelspec": {
      "name": "python3",
      "display_name": "Python 3"
    },
    "language_info": {
      "name": "python"
    }
  },
  "cells": [
    {
      "cell_type": "markdown",
      "metadata": {
        "id": "view-in-github",
        "colab_type": "text"
      },
      "source": [
        "<a href=\"https://colab.research.google.com/github/ChanduDP/Python/blob/main/Glaxo%26BEML_Prob_Gain_or_Loss.ipynb\" target=\"_parent\"><img src=\"https://colab.research.google.com/assets/colab-badge.svg\" alt=\"Open In Colab\"/></a>"
      ]
    },
    {
      "cell_type": "code",
      "metadata": {
        "id": "9y5YcEzBDPBh"
      },
      "source": [
        "import pandas as pd\n",
        "import seaborn as sns\n",
        "import numpy as np\n",
        "import matplotlib.pyplot as plt\n",
        "%matplotlib inline\n",
        "from scipy import stats"
      ],
      "execution_count": 15,
      "outputs": []
    },
    {
      "cell_type": "code",
      "metadata": {
        "id": "fnK2KrZTDfOB"
      },
      "source": [
        "#Loading BEML & GLAXO Files\n",
        "\n",
        "BEML_DF = pd.read_csv(\"/content/BEML.csv\")\n",
        "GLAXO_DF = pd.read_csv(\"/content/GLAXO.csv\")"
      ],
      "execution_count": 3,
      "outputs": []
    },
    {
      "cell_type": "code",
      "metadata": {
        "colab": {
          "base_uri": "https://localhost:8080/",
          "height": 415
        },
        "id": "Y4ujgUgxFzbv",
        "outputId": "ba3a38e7-53e2-4d74-bb6f-7d53ef5fb17c"
      },
      "source": [
        "#Loading Date and Close columns into  & GLAXO_DF\n",
        "\n",
        "BEML_DF = BEML_DF[['Date','Close']]\n",
        "GLAXO_DF = GLAXO_DF[['Date','Close']]\n"
      ],
      "execution_count": 9,
      "outputs": [
        {
          "output_type": "execute_result",
          "data": {
            "text/html": [
              "<div>\n",
              "<style scoped>\n",
              "    .dataframe tbody tr th:only-of-type {\n",
              "        vertical-align: middle;\n",
              "    }\n",
              "\n",
              "    .dataframe tbody tr th {\n",
              "        vertical-align: top;\n",
              "    }\n",
              "\n",
              "    .dataframe thead th {\n",
              "        text-align: right;\n",
              "    }\n",
              "</style>\n",
              "<table border=\"1\" class=\"dataframe\">\n",
              "  <thead>\n",
              "    <tr style=\"text-align: right;\">\n",
              "      <th></th>\n",
              "      <th>Date</th>\n",
              "      <th>Close</th>\n",
              "    </tr>\n",
              "  </thead>\n",
              "  <tbody>\n",
              "    <tr>\n",
              "      <th>0</th>\n",
              "      <td>2010-01-04</td>\n",
              "      <td>1135.60</td>\n",
              "    </tr>\n",
              "    <tr>\n",
              "      <th>1</th>\n",
              "      <td>2010-01-05</td>\n",
              "      <td>1134.60</td>\n",
              "    </tr>\n",
              "    <tr>\n",
              "      <th>2</th>\n",
              "      <td>2010-01-06</td>\n",
              "      <td>1139.60</td>\n",
              "    </tr>\n",
              "    <tr>\n",
              "      <th>3</th>\n",
              "      <td>2010-01-07</td>\n",
              "      <td>1144.15</td>\n",
              "    </tr>\n",
              "    <tr>\n",
              "      <th>4</th>\n",
              "      <td>2010-01-08</td>\n",
              "      <td>1144.05</td>\n",
              "    </tr>\n",
              "    <tr>\n",
              "      <th>...</th>\n",
              "      <td>...</td>\n",
              "      <td>...</td>\n",
              "    </tr>\n",
              "    <tr>\n",
              "      <th>1734</th>\n",
              "      <td>2016-12-26</td>\n",
              "      <td>950.25</td>\n",
              "    </tr>\n",
              "    <tr>\n",
              "      <th>1735</th>\n",
              "      <td>2016-12-27</td>\n",
              "      <td>975.70</td>\n",
              "    </tr>\n",
              "    <tr>\n",
              "      <th>1736</th>\n",
              "      <td>2016-12-28</td>\n",
              "      <td>974.40</td>\n",
              "    </tr>\n",
              "    <tr>\n",
              "      <th>1737</th>\n",
              "      <td>2016-12-29</td>\n",
              "      <td>986.05</td>\n",
              "    </tr>\n",
              "    <tr>\n",
              "      <th>1738</th>\n",
              "      <td>2016-12-30</td>\n",
              "      <td>1000.60</td>\n",
              "    </tr>\n",
              "  </tbody>\n",
              "</table>\n",
              "<p>1739 rows × 2 columns</p>\n",
              "</div>"
            ],
            "text/plain": [
              "            Date    Close\n",
              "0     2010-01-04  1135.60\n",
              "1     2010-01-05  1134.60\n",
              "2     2010-01-06  1139.60\n",
              "3     2010-01-07  1144.15\n",
              "4     2010-01-08  1144.05\n",
              "...          ...      ...\n",
              "1734  2016-12-26   950.25\n",
              "1735  2016-12-27   975.70\n",
              "1736  2016-12-28   974.40\n",
              "1737  2016-12-29   986.05\n",
              "1738  2016-12-30  1000.60\n",
              "\n",
              "[1739 rows x 2 columns]"
            ]
          },
          "metadata": {
            "tags": []
          },
          "execution_count": 9
        }
      ]
    },
    {
      "cell_type": "code",
      "metadata": {
        "id": "3Xv9FrFpGuVc"
      },
      "source": [
        "#Making Date as a column index and it will ensure that date is sorted in ascending order\n",
        "\n",
        "BEML_DF = BEML_DF.set_index(pd.DatetimeIndex(BEML_DF['Date']))\n",
        "GLAXO_DF = GLAXO_DF.set_index(pd.DatetimeIndex(GLAXO_DF['Date']))"
      ],
      "execution_count": 13,
      "outputs": []
    },
    {
      "cell_type": "code",
      "metadata": {
        "id": "3eyDICEzIkE3"
      },
      "source": [
        "#Plotting Close price for BEML_DF\n",
        "\n",
        "plt.plot(BEML_DF['Close'])"
      ],
      "execution_count": null,
      "outputs": []
    },
    {
      "cell_type": "code",
      "metadata": {
        "id": "La7ofI0-K3LX"
      },
      "source": [
        "#Plotting Close price for GLAXO_DF\n",
        "\n",
        "plt.plot(GLAXO_DF['Close'])\n",
        "plt.show"
      ],
      "execution_count": null,
      "outputs": []
    },
    {
      "cell_type": "code",
      "metadata": {
        "id": "Q6RL2KjlIO0s"
      },
      "source": [
        "#Calculating gain values for both\n",
        "\n",
        "BEML_DF['Gain'] = BEML_DF['Close'].pct_change(periods = 1)\n",
        "GLAXO_DF['Gain'] = GLAXO_DF['Close'].pct_change(periods = 1)"
      ],
      "execution_count": 24,
      "outputs": []
    },
    {
      "cell_type": "code",
      "metadata": {
        "id": "wYYiN7liMWgR"
      },
      "source": [
        "#Dropping NA values for both\n",
        "\n",
        "BEML_DF = BEML_DF.dropna()\n",
        "GLAXO_DF = GLAXO_DF.dropna()"
      ],
      "execution_count": 27,
      "outputs": []
    },
    {
      "cell_type": "code",
      "metadata": {
        "colab": {
          "base_uri": "https://localhost:8080/",
          "height": 283
        },
        "id": "XzDRyozZNcOa",
        "outputId": "78971176-8a05-4209-88f2-736933d779a6"
      },
      "source": [
        "#Plotting Gain price for BEML_DF\n",
        "\n",
        "plt.plot(BEML_DF['Gain'])"
      ],
      "execution_count": 29,
      "outputs": [
        {
          "output_type": "execute_result",
          "data": {
            "text/plain": [
              "[<matplotlib.lines.Line2D at 0x7f5b962c8510>]"
            ]
          },
          "metadata": {
            "tags": []
          },
          "execution_count": 29
        },
        {
          "output_type": "display_data",
          "data": {
            "image/png": "[encoded data removed]",
            "text/plain": [
              "<Figure size 432x288 with 1 Axes>"
            ]
          },
          "metadata": {
            "tags": [],
            "needs_background": "light"
          }
        }
      ]
    },
    {
      "cell_type": "code",
      "metadata": {
        "colab": {
          "base_uri": "https://localhost:8080/",
          "height": 285
        },
        "id": "QOf12W2zNPH4",
        "outputId": "57cd77c3-e727-41e1-e5c2-2dec01a86796"
      },
      "source": [
        "#Plotting Gain price for GLAXO_DF\n",
        "\n",
        "plt.plot(GLAXO_DF['Gain'])"
      ],
      "execution_count": 28,
      "outputs": [
        {
          "output_type": "execute_result",
          "data": {
            "text/plain": [
              "[<matplotlib.lines.Line2D at 0x7f5b96360f90>]"
            ]
          },
          "metadata": {
            "tags": []
          },
          "execution_count": 28
        },
        {
          "output_type": "display_data",
          "data": {
            "image/png": "[encoded data removed]",
            "text/plain": [
              "<Figure size 432x288 with 1 Axes>"
            ]
          },
          "metadata": {
            "tags": [],
            "needs_background": "light"
          }
        }
      ]
    },
    {
      "cell_type": "code",
      "metadata": {
        "colab": {
          "base_uri": "https://localhost:8080/",
          "height": 351
        },
        "id": "9Kv-K1ELNhsB",
        "outputId": "faceb67b-663f-410b-b206-1db356f613c7"
      },
      "source": [
        "#Plotting Density plot for BEML_DF\n",
        "\n",
        "sns.distplot(BEML_DF['Gain'], label = 'BEML')\n",
        "plt.legend()"
      ],
      "execution_count": 34,
      "outputs": [
        {
          "output_type": "stream",
          "text": [
            "/usr/local/lib/python3.7/dist-packages/seaborn/distributions.py:2557: FutureWarning: `distplot` is a deprecated function and will be removed in a future version. Please adapt your code to use either `displot` (a figure-level function with similar flexibility) or `histplot` (an axes-level function for histograms).\n",
            "  warnings.warn(msg, FutureWarning)\n"
          ],
          "name": "stderr"
        },
        {
          "output_type": "execute_result",
          "data": {
            "text/plain": [
              "<matplotlib.legend.Legend at 0x7f5b93c97390>"
            ]
          },
          "metadata": {
            "tags": []
          },
          "execution_count": 34
        },
        {
          "output_type": "display_data",
          "data": {
            "image/png": "[encoded data removed]",
            "text/plain": [
              "<Figure size 432x288 with 1 Axes>"
            ]
          },
          "metadata": {
            "tags": [],
            "needs_background": "light"
          }
        }
      ]
    },
    {
      "cell_type": "code",
      "metadata": {
        "colab": {
          "base_uri": "https://localhost:8080/",
          "height": 351
        },
        "id": "UN45eE0LOl0A",
        "outputId": "0833c035-553d-4ee6-a56e-4c2729316185"
      },
      "source": [
        "#Plotting Density plot for GLAXO_DF\n",
        "\n",
        "sns.distplot(GLAXO_DF['Gain'], label = 'GLAXO')\n",
        "plt.legend()"
      ],
      "execution_count": 36,
      "outputs": [
        {
          "output_type": "stream",
          "text": [
            "/usr/local/lib/python3.7/dist-packages/seaborn/distributions.py:2557: FutureWarning: `distplot` is a deprecated function and will be removed in a future version. Please adapt your code to use either `displot` (a figure-level function with similar flexibility) or `histplot` (an axes-level function for histograms).\n",
            "  warnings.warn(msg, FutureWarning)\n"
          ],
          "name": "stderr"
        },
        {
          "output_type": "execute_result",
          "data": {
            "text/plain": [
              "<matplotlib.legend.Legend at 0x7f5b93cf9b50>"
            ]
          },
          "metadata": {
            "tags": []
          },
          "execution_count": 36
        },
        {
          "output_type": "display_data",
          "data": {
            "image/png": "[encoded data removed]",
            "text/plain": [
              "<Figure size 432x288 with 1 Axes>"
            ]
          },
          "metadata": {
            "tags": [],
            "needs_background": "light"
          }
        }
      ]
    },
    {
      "cell_type": "code",
      "metadata": {
        "colab": {
          "base_uri": "https://localhost:8080/"
        },
        "id": "frXw5jSsUD9D",
        "outputId": "72874ba1-d1eb-4630-902c-4ba3adcb3901"
      },
      "source": [
        "GLAXO_DF['Gain']"
      ],
      "execution_count": 44,
      "outputs": [
        {
          "output_type": "execute_result",
          "data": {
            "text/plain": [
              "Date\n",
              "2010-01-05   -0.005444\n",
              "2010-01-06    0.013422\n",
              "2010-01-07    0.006225\n",
              "2010-01-08   -0.005398\n",
              "2010-01-11   -0.006312\n",
              "                ...   \n",
              "2016-12-26   -0.001283\n",
              "2016-12-27   -0.007986\n",
              "2016-12-28    0.000148\n",
              "2016-12-29    0.009529\n",
              "2016-12-30    0.000697\n",
              "Name: Gain, Length: 1738, dtype: float64"
            ]
          },
          "metadata": {
            "tags": []
          },
          "execution_count": 44
        }
      ]
    },
    {
      "cell_type": "code",
      "metadata": {
        "colab": {
          "base_uri": "https://localhost:8080/"
        },
        "id": "1NPbb0WTPL24",
        "outputId": "afc6c0c0-4af8-43ff-a8a6-e009017e2b69"
      },
      "source": [
        "#Calculating Probability of 2% loss or higher BEML\n",
        "\n",
        "stats.norm.cdf(0.04, loc = BEML_DF['Gain'].mean(), scale = BEML_DF['Gain'].std())"
      ],
      "execution_count": 49,
      "outputs": [
        {
          "output_type": "execute_result",
          "data": {
            "text/plain": [
              "0.9335985851485303"
            ]
          },
          "metadata": {
            "tags": []
          },
          "execution_count": 49
        }
      ]
    },
    {
      "cell_type": "code",
      "metadata": {
        "colab": {
          "base_uri": "https://localhost:8080/"
        },
        "id": "rDibv7kcQOa_",
        "outputId": "48e6c4f7-8c8d-4aab-ef0a-643f02e4a680"
      },
      "source": [
        "#Calculating Probability of 2% Profit or higher BEML\n",
        "\n",
        "1-stats.norm.cdf(-0.02, loc = BEML_DF['Gain'].mean(), scale = BEML_DF['Gain'].std())"
      ],
      "execution_count": 45,
      "outputs": [
        {
          "output_type": "execute_result",
          "data": {
            "text/plain": [
              "0.7784401249624471"
            ]
          },
          "metadata": {
            "tags": []
          },
          "execution_count": 45
        }
      ]
    },
    {
      "cell_type": "code",
      "metadata": {
        "colab": {
          "base_uri": "https://localhost:8080/"
        },
        "id": "tMLmBHDrQV6u",
        "outputId": "de80092c-b435-40cc-d0a6-54f06c57c6bf"
      },
      "source": [
        "#Calculating Probability of 2% loss or higher GLAXO\n",
        "\n",
        "stats.norm.cdf(-0.02, loc = GLAXO_DF['Gain'].mean(), scale = GLAXO_DF['Gain'].std())"
      ],
      "execution_count": 40,
      "outputs": [
        {
          "output_type": "execute_result",
          "data": {
            "text/plain": [
              "0.06352488667177397"
            ]
          },
          "metadata": {
            "tags": []
          },
          "execution_count": 40
        }
      ]
    },
    {
      "cell_type": "code",
      "metadata": {
        "colab": {
          "base_uri": "https://localhost:8080/"
        },
        "id": "rxDQGhfkQkpP",
        "outputId": "2dee17d3-dca7-4011-fba1-f769227c6ab3"
      },
      "source": [
        "#Calculating Probability of 2% Profit or higher GLAXO\n",
        "\n",
        "1-stats.norm.cdf(-0.02, loc = GLAXO_DF['Gain'].mean(), scale = GLAXO_DF['Gain'].std())"
      ],
      "execution_count": 43,
      "outputs": [
        {
          "output_type": "execute_result",
          "data": {
            "text/plain": [
              "0.9364751133282261"
            ]
          },
          "metadata": {
            "tags": []
          },
          "execution_count": 43
        }
      ]
    },
    {
      "cell_type": "code",
      "metadata": {
        "colab": {
          "base_uri": "https://localhost:8080/"
        },
        "id": "deT_rD-efRQw",
        "outputId": "17e82dd5-6383-4e77-fe53-83b1ef738f48"
      },
      "source": [
        "#Confidence Interval for BEML - 90%\n",
        "\n",
        "BEML_CI = stats.norm.interval(0.9, loc = BEML_DF['Gain'].mean(), scale = BEML_DF['Gain'].std() )\n",
        "BEML_CI"
      ],
      "execution_count": 52,
      "outputs": [
        {
          "output_type": "execute_result",
          "data": {
            "text/plain": [
              "(-0.043204100925206775, 0.04374559708332123)"
            ]
          },
          "metadata": {
            "tags": []
          },
          "execution_count": 52
        }
      ]
    },
    {
      "cell_type": "code",
      "metadata": {
        "colab": {
          "base_uri": "https://localhost:8080/"
        },
        "id": "gs2c6RtigFs2",
        "outputId": "d709118c-607a-4e36-f02a-ed9631757e76"
      },
      "source": [
        "#Confidence Interval for BEML - 95%\n",
        "\n",
        "BEML_CI = stats.norm.interval(0.95, loc = BEML_DF['Gain'].mean(), scale = BEML_DF['Gain'].std() )\n",
        "BEML_CI"
      ],
      "execution_count": 53,
      "outputs": [
        {
          "output_type": "execute_result",
          "data": {
            "text/plain": [
              "(-0.051532729680601415, 0.05207422583871588)"
            ]
          },
          "metadata": {
            "tags": []
          },
          "execution_count": 53
        }
      ]
    },
    {
      "cell_type": "code",
      "metadata": {
        "colab": {
          "base_uri": "https://localhost:8080/"
        },
        "id": "0HUVtGnKgI27",
        "outputId": "615109b2-ebba-432d-bb67-8d0ccb3d127e"
      },
      "source": [
        "#Confidence Interval for GLAXO - 90%\n",
        "\n",
        "GLAXO_CI = stats.norm.interval(0.9, loc = GLAXO_DF['Gain'].mean(), scale = GLAXO_DF['Gain'].std() )\n",
        "print('Gain at GLAXO - 90% is :' , np.round(GLAXO_CI, 4))"
      ],
      "execution_count": 60,
      "outputs": [
        {
          "output_type": "stream",
          "text": [
            "Gain at GLAXO - 90% is : [-0.0216  0.0224]\n"
          ],
          "name": "stdout"
        }
      ]
    },
    {
      "cell_type": "code",
      "metadata": {
        "colab": {
          "base_uri": "https://localhost:8080/"
        },
        "id": "x4ySZrdrhJ5U",
        "outputId": "f7861c84-a066-4ddd-9ba7-d6cb006e1cb9"
      },
      "source": [
        "#Confidence Interval for GLAXO - 95%\n",
        "\n",
        "GLAXO_CI = stats.norm.interval(0.95, loc = GLAXO_DF['Gain'].mean(), scale = GLAXO_DF['Gain'].std() )\n",
        "print('Gain at GLAXO - 90% is :' , np.round(GLAXO_CI, 4))"
      ],
      "execution_count": 61,
      "outputs": [
        {
          "output_type": "stream",
          "text": [
            "Gain at GLAXO - 90% is : [-0.0258  0.0266]\n"
          ],
          "name": "stdout"
        }
      ]
    }
  ]
}