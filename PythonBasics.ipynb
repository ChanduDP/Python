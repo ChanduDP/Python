{
  "nbformat": 4,
  "nbformat_minor": 0,
  "metadata": {
    "colab": {
      "name": "PythonBasics.ipynb",
      "provenance": [],
      "collapsed_sections": [],
      "authorship_tag": "ABX9TyNKCZzaAsl59rfzA9c01lUw",
      "include_colab_link": true
    },
    "kernelspec": {
      "name": "python3",
      "display_name": "Python 3"
    },
    "language_info": {
      "name": "python"
    }
  },
  "cells": [
    {
      "cell_type": "markdown",
      "metadata": {
        "id": "view-in-github",
        "colab_type": "text"
      },
      "source": [
        "<a href=\"https://colab.research.google.com/github/ChanduDP/Python/blob/main/PythonBasics.ipynb\" target=\"_parent\"><img src=\"https://colab.research.google.com/assets/colab-badge.svg\" alt=\"Open In Colab\"/></a>"
      ]
    },
    {
      "cell_type": "code",
      "metadata": {
        "id": "zRw5OF7eJzq8"
      },
      "source": [
        "import pandas as pd"
      ],
      "execution_count": null,
      "outputs": []
    },
    {
      "cell_type": "code",
      "metadata": {
        "id": "KT_OucaXSq_t"
      },
      "source": [
        "df = pd.read_csv(\"/content/CardioGoodFitness.csv\")"
      ],
      "execution_count": null,
      "outputs": []
    },
    {
      "cell_type": "code",
      "metadata": {
        "id": "VUXW599CUDsf"
      },
      "source": [
        "df.head(8)"
      ],
      "execution_count": null,
      "outputs": []
    },
    {
      "cell_type": "code",
      "metadata": {
        "id": "UtfenmKBdXHP"
      },
      "source": [
        "df.dtypes"
      ],
      "execution_count": null,
      "outputs": []
    },
    {
      "cell_type": "code",
      "metadata": {
        "id": "r3N1H_7lddIV"
      },
      "source": [
        "df.columns"
      ],
      "execution_count": null,
      "outputs": []
    },
    {
      "cell_type": "code",
      "metadata": {
        "id": "WgckwUv2dgoI"
      },
      "source": [
        "df.axes"
      ],
      "execution_count": null,
      "outputs": []
    },
    {
      "cell_type": "code",
      "metadata": {
        "id": "nRcqo1SudoIG"
      },
      "source": [
        "df.ndim"
      ],
      "execution_count": null,
      "outputs": []
    },
    {
      "cell_type": "code",
      "metadata": {
        "id": "ivl5AwOfdrjt"
      },
      "source": [
        "df.size"
      ],
      "execution_count": null,
      "outputs": []
    },
    {
      "cell_type": "code",
      "metadata": {
        "id": "MJ2J5k6DdvIV"
      },
      "source": [
        "df.shape"
      ],
      "execution_count": null,
      "outputs": []
    },
    {
      "cell_type": "code",
      "metadata": {
        "id": "VAIvQFeYdye_"
      },
      "source": [
        "df.values"
      ],
      "execution_count": null,
      "outputs": []
    },
    {
      "cell_type": "code",
      "metadata": {
        "id": "WDa0QDFfTHp8"
      },
      "source": [
        "dir(df)"
      ],
      "execution_count": null,
      "outputs": []
    },
    {
      "cell_type": "code",
      "metadata": {
        "id": "Xm_ehxKemwVh"
      },
      "source": [
        "df.head(50)"
      ],
      "execution_count": null,
      "outputs": []
    },
    {
      "cell_type": "code",
      "metadata": {
        "id": "6mDHJ5zVm4_p"
      },
      "source": [
        "df.tail()"
      ],
      "execution_count": null,
      "outputs": []
    },
    {
      "cell_type": "code",
      "metadata": {
        "id": "YcuUSXDRU-lr"
      },
      "source": [
        "df.describe()"
      ],
      "execution_count": null,
      "outputs": []
    },
    {
      "cell_type": "code",
      "metadata": {
        "id": "huCZYhinnBJc"
      },
      "source": [
        "df.max()"
      ],
      "execution_count": null,
      "outputs": []
    },
    {
      "cell_type": "code",
      "metadata": {
        "id": "JoVdKivnnJY_"
      },
      "source": [
        "df.min()"
      ],
      "execution_count": null,
      "outputs": []
    },
    {
      "cell_type": "code",
      "metadata": {
        "id": "1nEG05unWkw4"
      },
      "source": [
        "df.mean()"
      ],
      "execution_count": null,
      "outputs": []
    },
    {
      "cell_type": "code",
      "metadata": {
        "id": "q9XhS2K_Ximl"
      },
      "source": [
        "df.median()"
      ],
      "execution_count": null,
      "outputs": []
    },
    {
      "cell_type": "code",
      "metadata": {
        "id": "WevcG1EKpCXK"
      },
      "source": [
        "df.std()"
      ],
      "execution_count": null,
      "outputs": []
    },
    {
      "cell_type": "code",
      "metadata": {
        "id": "8tcP5Vc6Xphb"
      },
      "source": [
        "df.sample(20)"
      ],
      "execution_count": null,
      "outputs": []
    },
    {
      "cell_type": "code",
      "metadata": {
        "id": "FU0ckf7TYJgd"
      },
      "source": [
        "df.dropna()"
      ],
      "execution_count": null,
      "outputs": []
    },
    {
      "cell_type": "code",
      "metadata": {
        "id": "mutWgdBnnaXl"
      },
      "source": [
        "df.Product.value_counts()"
      ],
      "execution_count": null,
      "outputs": []
    },
    {
      "cell_type": "code",
      "metadata": {
        "id": "PYsvvfYMoMLH"
      },
      "source": [
        "df.Income.value_counts()"
      ],
      "execution_count": null,
      "outputs": []
    },
    {
      "cell_type": "code",
      "metadata": {
        "id": "zZNfnU68r3FZ"
      },
      "source": [
        "df.head(50).mean()"
      ],
      "execution_count": null,
      "outputs": []
    },
    {
      "cell_type": "markdown",
      "metadata": {
        "id": "ynI2sCZ6ss0s"
      },
      "source": [
        "Gives mean for first 50 records\n"
      ]
    },
    {
      "cell_type": "code",
      "metadata": {
        "id": "3rWX437ns0rZ"
      },
      "source": [
        "df_50 = df.head(50)"
      ],
      "execution_count": null,
      "outputs": []
    },
    {
      "cell_type": "code",
      "metadata": {
        "id": "YBVksfSvMZFU"
      },
      "source": [
        "df_50"
      ],
      "execution_count": null,
      "outputs": []
    },
    {
      "cell_type": "markdown",
      "metadata": {
        "id": "7VOj09rMtKzL"
      },
      "source": [
        "Creating a Data Frame of first 50 records\n",
        "\n"
      ]
    },
    {
      "cell_type": "code",
      "metadata": {
        "id": "wncxvpxOtX2o"
      },
      "source": [
        "df_50.mean()"
      ],
      "execution_count": null,
      "outputs": []
    },
    {
      "cell_type": "code",
      "metadata": {
        "id": "-tVrOcG6FK9C"
      },
      "source": [
        "df.Product"
      ],
      "execution_count": null,
      "outputs": []
    },
    {
      "cell_type": "code",
      "metadata": {
        "id": "l8LXW3UuFWBt"
      },
      "source": [
        "df['Product']"
      ],
      "execution_count": null,
      "outputs": []
    },
    {
      "cell_type": "code",
      "metadata": {
        "id": "xMMYFEXeFdFY"
      },
      "source": [
        "df[['Product']]"
      ],
      "execution_count": null,
      "outputs": []
    },
    {
      "cell_type": "code",
      "metadata": {
        "id": "Ky0ISDalGf-J"
      },
      "source": [
        "df.Income.describe()"
      ],
      "execution_count": null,
      "outputs": []
    },
    {
      "cell_type": "code",
      "metadata": {
        "id": "AnZ24kNbGv9y"
      },
      "source": [
        "df['Income'].describe()"
      ],
      "execution_count": null,
      "outputs": []
    },
    {
      "cell_type": "code",
      "metadata": {
        "id": "7klyhhAuG6-2"
      },
      "source": [
        "df['Income'].count()"
      ],
      "execution_count": null,
      "outputs": []
    },
    {
      "cell_type": "code",
      "metadata": {
        "id": "wHZPN8d7HNcv"
      },
      "source": [
        "df['Income'].mean()"
      ],
      "execution_count": null,
      "outputs": []
    },
    {
      "cell_type": "code",
      "metadata": {
        "id": "xUkSBoUPHctf"
      },
      "source": [
        "df['Income'].head(50).mean()"
      ],
      "execution_count": null,
      "outputs": []
    },
    {
      "cell_type": "code",
      "metadata": {
        "id": "fctrXquCL2cV"
      },
      "source": [
        "df_grb = df.groupby(['Product']).mean()"
      ],
      "execution_count": null,
      "outputs": []
    },
    {
      "cell_type": "code",
      "metadata": {
        "id": "Wg6Mv7ZgMMGb"
      },
      "source": [
        "df_grb"
      ],
      "execution_count": null,
      "outputs": []
    },
    {
      "cell_type": "code",
      "metadata": {
        "id": "m5aDquBPMdqB"
      },
      "source": [
        "df_grb.mean()"
      ],
      "execution_count": null,
      "outputs": []
    },
    {
      "cell_type": "markdown",
      "metadata": {
        "id": "SizXQZ4GM1Uk"
      },
      "source": [
        "calculating stats y using groupby menthod. Create new variable and insert group by method into it. Next use mean method to get the result."
      ]
    },
    {
      "cell_type": "code",
      "metadata": {
        "id": "JrqfUJqVNOdC"
      },
      "source": [
        "df.groupby(['Product'])[['Age']].mean()"
      ],
      "execution_count": null,
      "outputs": []
    },
    {
      "cell_type": "markdown",
      "metadata": {
        "id": "J-8sAfavph_k"
      },
      "source": [
        "Using groupby for product to divide the table by using product column"
      ]
    },
    {
      "cell_type": "code",
      "metadata": {
        "id": "dsP3OSgVpr41"
      },
      "source": [
        "df.groupby('Product')[['Age', 'Income']].mean()"
      ],
      "execution_count": null,
      "outputs": []
    },
    {
      "cell_type": "code",
      "metadata": {
        "id": "3-paeUOQsfK_"
      },
      "source": [
        "grouped = df.groupby(['Product'])"
      ],
      "execution_count": null,
      "outputs": []
    },
    {
      "cell_type": "code",
      "metadata": {
        "id": "KvaGbNDRsunl"
      },
      "source": [
        "grouped.groups"
      ],
      "execution_count": null,
      "outputs": []
    },
    {
      "cell_type": "code",
      "metadata": {
        "id": "jHtEB7bOuK2f"
      },
      "source": [
        "df[df['Income'] > 80000]"
      ],
      "execution_count": null,
      "outputs": []
    },
    {
      "cell_type": "code",
      "metadata": {
        "id": "VQkE5N9hweYw"
      },
      "source": [
        "df[(df['Product'] == 'TM195') & (df['Gender'] == 'Male') & (df['MaritalStatus'] == 'Single')]"
      ],
      "execution_count": null,
      "outputs": []
    },
    {
      "cell_type": "code",
      "metadata": {
        "id": "v-iiwHbX9ehC"
      },
      "source": [
        "df[['Product', 'Income']]"
      ],
      "execution_count": null,
      "outputs": []
    },
    {
      "cell_type": "code",
      "metadata": {
        "id": "f9INJUkJ__U_"
      },
      "source": [
        "df.iloc[[4]]"
      ],
      "execution_count": null,
      "outputs": []
    },
    {
      "cell_type": "code",
      "metadata": {
        "id": "0iAbGpzqxSil"
      },
      "source": [
        "df.head(6)"
      ],
      "execution_count": null,
      "outputs": []
    },
    {
      "cell_type": "code",
      "metadata": {
        "id": "YNCIh-5IB0aC"
      },
      "source": [
        "df.iloc[1:5,0:4]"
      ],
      "execution_count": null,
      "outputs": []
    },
    {
      "cell_type": "code",
      "metadata": {
        "id": "LIZBx6o2DpBj"
      },
      "source": [
        "df.iloc[1:3, 0:2]"
      ],
      "execution_count": null,
      "outputs": []
    },
    {
      "cell_type": "code",
      "metadata": {
        "id": "7wL0DHDiFCED"
      },
      "source": [
        "df.iloc[3:15, 2:7]"
      ],
      "execution_count": null,
      "outputs": []
    },
    {
      "cell_type": "code",
      "metadata": {
        "id": "C8iPj_FNS9vb"
      },
      "source": [
        "df.iloc[:, 0:2]"
      ],
      "execution_count": null,
      "outputs": []
    },
    {
      "cell_type": "code",
      "metadata": {
        "id": "cZtNl9wLUV7g"
      },
      "source": [
        "df.iloc[[1,5], [2,4]]"
      ],
      "execution_count": null,
      "outputs": []
    },
    {
      "cell_type": "code",
      "metadata": {
        "id": "WI_SSC3lBkEG"
      },
      "source": [
        "df[['Age', 'Usage', 'Fitness', 'Product', 'MaritalStatus']].agg(['mean', 'max'])"
      ],
      "execution_count": null,
      "outputs": []
    }
  ]
}