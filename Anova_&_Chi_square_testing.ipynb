{
  "nbformat": 4,
  "nbformat_minor": 0,
  "metadata": {
    "colab": {
      "name": "Anova & Chi square testing.ipynb",
      "provenance": [],
      "authorship_tag": "ABX9TyPLtpralC+1u/bv3XqRWqAc",
      "include_colab_link": true
    },
    "kernelspec": {
      "name": "python3",
      "display_name": "Python 3"
    },
    "language_info": {
      "name": "python"
    }
  },
  "cells": [
    {
      "cell_type": "markdown",
      "metadata": {
        "id": "view-in-github",
        "colab_type": "text"
      },
      "source": [
        "<a href=\"https://colab.research.google.com/github/ChanduDP/Python/blob/main/Anova_%26_Chi_square_testing.ipynb\" target=\"_parent\"><img src=\"https://colab.research.google.com/assets/colab-badge.svg\" alt=\"Open In Colab\"/></a>"
      ]
    },
    {
      "cell_type": "code",
      "metadata": {
        "id": "EesGV5VnixAN"
      },
      "source": [
        "#Loading Libraries\n",
        "\n",
        "import pandas as pd\n",
        "from sklearn import datasets\n",
        "\n",
        "iris = datasets.load_iris()\n",
        "iris"
      ],
      "execution_count": null,
      "outputs": []
    },
    {
      "cell_type": "code",
      "metadata": {
        "id": "fwkTQdXoj09D"
      },
      "source": [
        "df = pd.DataFrame(iris.data)\n",
        "df"
      ],
      "execution_count": null,
      "outputs": []
    },
    {
      "cell_type": "code",
      "metadata": {
        "id": "KTP3QBPckdXU"
      },
      "source": [
        "import scipy.stats as stats\n",
        "stats.f_oneway(df.iloc[ :, 0], df.iloc[:, 1], df.iloc[:, 2], df.iloc[:, 3])"
      ],
      "execution_count": null,
      "outputs": []
    },
    {
      "cell_type": "code",
      "metadata": {
        "colab": {
          "base_uri": "https://localhost:8080/"
        },
        "id": "hnyA22Jn821x",
        "outputId": "486d8c20-3d91-41ea-ee16-80008e4244aa"
      },
      "source": [
        "#chisquare testing\n",
        "\n",
        "from scipy.stats import chi2_contingency\n",
        "data = [[14,4],[0,10]]\n",
        "chi2_contingency(data)"
      ],
      "execution_count": 6,
      "outputs": [
        {
          "output_type": "execute_result",
          "data": {
            "text/plain": [
              "(12.600000000000001, 0.0003857467556820071, 1, array([[9., 9.],\n",
              "        [5., 5.]]))"
            ]
          },
          "metadata": {
            "tags": []
          },
          "execution_count": 6
        }
      ]
    }
  ]
}