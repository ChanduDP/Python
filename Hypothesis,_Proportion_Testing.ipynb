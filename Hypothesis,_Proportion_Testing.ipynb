{
  "nbformat": 4,
  "nbformat_minor": 0,
  "metadata": {
    "colab": {
      "name": "Hypothesis, Proportion_Testing.ipynb",
      "provenance": [],
      "collapsed_sections": [],
      "authorship_tag": "ABX9TyO0Gk3USkSYA/sb7YGeg+kE",
      "include_colab_link": true
    },
    "kernelspec": {
      "name": "python3",
      "display_name": "Python 3"
    },
    "language_info": {
      "name": "python"
    }
  },
  "cells": [
    {
      "cell_type": "markdown",
      "metadata": {
        "id": "view-in-github",
        "colab_type": "text"
      },
      "source": [
        "<a href=\"https://colab.research.google.com/github/ChanduDP/Python/blob/main/Hypothesis%2C_Proportion_Testing.ipynb\" target=\"_parent\"><img src=\"https://colab.research.google.com/assets/colab-badge.svg\" alt=\"Open In Colab\"/></a>"
      ]
    },
    {
      "cell_type": "code",
      "metadata": {
        "id": "Z1lQPpWY44nO"
      },
      "source": [
        "#This is an Hypothesis testing\n",
        "\n",
        "import pandas as pd\n",
        "import numpy as np\n",
        "import scipy.stats as stats"
      ],
      "execution_count": 1,
      "outputs": []
    },
    {
      "cell_type": "code",
      "metadata": {
        "colab": {
          "base_uri": "https://localhost:8080/"
        },
        "id": "A4YF7Ysx5lBE",
        "outputId": "5c436679-6563-452e-b6c0-84f99d6624f5"
      },
      "source": [
        "#1 Sample 1 Tail Test\n",
        "\n",
        "#Manual Method\n",
        "\n",
        "#Super market Loyalty program\n",
        "#SM wants to launch a program, if their shoppers spend more than $120 per week.\n",
        "#Random sample of 80 has chosen & they spent an avg of $130 per week with std of $40.\n",
        "#Can supermarket launch that program?\n",
        "\n",
        "#Sample mean(X) = $130, Sample Standard Devi(s) = $40\n",
        "\n",
        "#step 1:\n",
        "#Null hypothesis: mu<$120\n",
        "#Alternate Hypothesis: mu>$120\n",
        "\n",
        "#Step 2:\n",
        "#Calculating t value: X-mu/s/sqrt(n)\n",
        "\n",
        "t=(130-120)/(40/np.sqrt(80))\n",
        "np.round(t,2)"
      ],
      "execution_count": 6,
      "outputs": [
        {
          "output_type": "execute_result",
          "data": {
            "text/plain": [
              "2.24"
            ]
          },
          "metadata": {
            "tags": []
          },
          "execution_count": 6
        }
      ]
    },
    {
      "cell_type": "code",
      "metadata": {
        "id": "kNB-VBy6-XzL"
      },
      "source": [
        "#Calculating p value\n",
        "\n",
        "p=1-stats.t.cdf(t,79)\n",
        "p"
      ],
      "execution_count": null,
      "outputs": []
    },
    {
      "cell_type": "code",
      "metadata": {
        "colab": {
          "base_uri": "https://localhost:8080/"
        },
        "id": "Mp-kA0l3BkJU",
        "outputId": "420f48e4-4d35-4c6a-f656-739e9349c398"
      },
      "source": [
        "np.round(p,3)"
      ],
      "execution_count": 19,
      "outputs": [
        {
          "output_type": "execute_result",
          "data": {
            "text/plain": [
              "0.014"
            ]
          },
          "metadata": {
            "tags": []
          },
          "execution_count": 19
        }
      ]
    },
    {
      "cell_type": "markdown",
      "metadata": {
        "id": "bjUuk_V0C4RH"
      },
      "source": [
        "Conclusion - p<0.05 - Reject null hypothesis\n",
        "\n",
        "Successfully launch program"
      ]
    },
    {
      "cell_type": "code",
      "metadata": {
        "colab": {
          "base_uri": "https://localhost:8080/"
        },
        "id": "bYSPMrteDQ2b",
        "outputId": "b500f604-1fb4-4464-f48a-d939439a2903"
      },
      "source": [
        "#2 tail, 1 sample scenario\n",
        "#Bpo call center check\n",
        "#It is normal if the Avg call time is 4 i.e., mu = 4 with sigma = 3\n",
        "#Daily sample is 50 and has different sample means\n",
        "#Check if it is normal daily\n",
        "\n",
        "#10th day, x = 4.6, sigma = 3 mins, mu = 4 min\n",
        "\n",
        "t=(4.6-4)/(3/np.sqrt(50))\n",
        "t"
      ],
      "execution_count": 21,
      "outputs": [
        {
          "output_type": "execute_result",
          "data": {
            "text/plain": [
              "1.4142135623730943"
            ]
          },
          "metadata": {
            "tags": []
          },
          "execution_count": 21
        }
      ]
    },
    {
      "cell_type": "code",
      "metadata": {
        "colab": {
          "base_uri": "https://localhost:8080/"
        },
        "id": "DsloG182Ka7r",
        "outputId": "cd527489-e913-410b-c213-e77e55f25903"
      },
      "source": [
        "2*stats.t.cdf(-t, 49)"
      ],
      "execution_count": 23,
      "outputs": [
        {
          "output_type": "execute_result",
          "data": {
            "text/plain": [
              "0.16362201811838478"
            ]
          },
          "metadata": {
            "tags": []
          },
          "execution_count": 23
        }
      ]
    },
    {
      "cell_type": "markdown",
      "metadata": {
        "id": "zKHZXCWOKrBg"
      },
      "source": [
        "Conclusion: Process is normal"
      ]
    },
    {
      "cell_type": "code",
      "metadata": {
        "colab": {
          "base_uri": "https://localhost:8080/"
        },
        "id": "Hz92ow8FLjWL",
        "outputId": "d1ab73fd-24aa-4e66-d080-53847e5d2161"
      },
      "source": [
        "#1 sample 1 tail\n",
        "\n",
        "#Ice cream - illness\n",
        "#9 randomly samples, level of salmonella, evidence that mean is greater than 0.3 MPN/g\n",
        "\n",
        "data = pd.Series([0.593, 0.142, 0.329, 0.691, 0.231, 0.793, 0.519, 0.392, 0.418])\n",
        "p=stats.ttest_1samp(data, 0.3)[1]\n",
        "p/2"
      ],
      "execution_count": 28,
      "outputs": [
        {
          "output_type": "execute_result",
          "data": {
            "text/plain": [
              "0.029265164842448826"
            ]
          },
          "metadata": {
            "tags": []
          },
          "execution_count": 28
        }
      ]
    },
    {
      "cell_type": "code",
      "metadata": {
        "id": "m3YSXvIEKvtR"
      },
      "source": [
        "#In python\n",
        "\n",
        "#2 sample 2 tail test\n",
        "#6 samples given a drug, treatment group, control group(placebo effect), checking the reaction time\n",
        "\n",
        "Con = pd.Series([91, 87, 99, 77, 88, 91])\n",
        "Treat = pd.Series([101, 110, 103, 93, 99, 104])\n",
        "\n"
      ],
      "execution_count": 30,
      "outputs": []
    },
    {
      "cell_type": "code",
      "metadata": {
        "colab": {
          "base_uri": "https://localhost:8080/"
        },
        "id": "UZEb65-ON9pJ",
        "outputId": "29bfa2f1-2a5a-48d0-cf7b-d8841b4b1779"
      },
      "source": [
        "stats.ttest_ind(Con, Treat)"
      ],
      "execution_count": 31,
      "outputs": [
        {
          "output_type": "execute_result",
          "data": {
            "text/plain": [
              "Ttest_indResult(statistic=-3.445612673536487, pvalue=0.006272124350809803)"
            ]
          },
          "metadata": {
            "tags": []
          },
          "execution_count": 31
        }
      ]
    },
    {
      "cell_type": "code",
      "metadata": {
        "colab": {
          "base_uri": "https://localhost:8080/"
        },
        "id": "BN6QRbkCQi1H",
        "outputId": "9e42e199-bc52-4367-f137-f5f721bb8129"
      },
      "source": [
        "import numpy as np\n",
        "import statsmodels.api as sm"
      ],
      "execution_count": 12,
      "outputs": [
        {
          "output_type": "stream",
          "text": [
            "/usr/local/lib/python3.7/dist-packages/statsmodels/tools/_testing.py:19: FutureWarning: pandas.util.testing is deprecated. Use the functions in the public API at pandas.testing instead.\n",
            "  import pandas.util.testing as tm\n"
          ],
          "name": "stderr"
        }
      ]
    },
    {
      "cell_type": "code",
      "metadata": {
        "id": "VGffuaE1QwPq"
      },
      "source": [
        "#Data\n",
        "\n",
        "n1 = 247\n",
        "p1 = .37\n",
        "\n",
        "n2 = 308\n",
        "p2 = .39"
      ],
      "execution_count": 3,
      "outputs": []
    },
    {
      "cell_type": "code",
      "metadata": {
        "colab": {
          "base_uri": "https://localhost:8080/"
        },
        "id": "y4DQ_9ocQ9KV",
        "outputId": "a8858971-fdf8-404d-c427-e270ebe81f13"
      },
      "source": [
        "Population1 = np.random.binomial(1,p1,n1)\n",
        "Population1\n",
        "Population1.mean()"
      ],
      "execution_count": 27,
      "outputs": [
        {
          "output_type": "execute_result",
          "data": {
            "text/plain": [
              "0.3765182186234818"
            ]
          },
          "metadata": {
            "tags": []
          },
          "execution_count": 27
        }
      ]
    },
    {
      "cell_type": "code",
      "metadata": {
        "colab": {
          "base_uri": "https://localhost:8080/"
        },
        "id": "6EAOZTOxRzty",
        "outputId": "65ad80a8-2d03-429d-e380-b0c4c39d7b0e"
      },
      "source": [
        "Population2 = np.random.binomial(1, p2, n2)\n",
        "Population2.mean()"
      ],
      "execution_count": 23,
      "outputs": [
        {
          "output_type": "execute_result",
          "data": {
            "text/plain": [
              "0.36038961038961037"
            ]
          },
          "metadata": {
            "tags": []
          },
          "execution_count": 23
        }
      ]
    },
    {
      "cell_type": "code",
      "metadata": {
        "colab": {
          "base_uri": "https://localhost:8080/"
        },
        "id": "Q0cbAAYPR-tY",
        "outputId": "09174fbc-e596-4ce4-d157-95da48e39eee"
      },
      "source": [
        "sm.stats.ttest_ind(Population1, Population2)"
      ],
      "execution_count": 24,
      "outputs": [
        {
          "output_type": "execute_result",
          "data": {
            "text/plain": [
              "(0.6835774941334858, 0.49452831290962285, 553.0)"
            ]
          },
          "metadata": {
            "tags": []
          },
          "execution_count": 24
        }
      ]
    }
  ]
}